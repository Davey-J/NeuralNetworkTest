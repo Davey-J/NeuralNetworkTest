{
 "cells": [
  {
   "cell_type": "code",
   "execution_count": 148,
   "id": "initial_id",
   "metadata": {
    "collapsed": true,
    "ExecuteTime": {
     "end_time": "2023-08-14T22:47:05.799126400Z",
     "start_time": "2023-08-14T22:47:05.789475900Z"
    }
   },
   "outputs": [],
   "source": [
    "from collections import OrderedDict\n",
    "import numpy as np\n",
    "import matplotlib.pyplot as plt\n",
    "import torch\n",
    "from torch import nn\n",
    "from torch import optim\n",
    "from torchvision import datasets\n",
    "from torch.utils.data import DataLoader\n",
    "from torchvision import transforms\n",
    "import torch.multiprocessing as mp\n",
    "from torchinfo import summary\n",
    "\n",
    "rng = np.random.default_rng()"
   ]
  },
  {
   "cell_type": "code",
   "execution_count": 149,
   "outputs": [],
   "source": [
    "training_data = datasets.EMNIST(root=\"Torch MNIST\", split=\"digits\", train=True,download=True, transform=transforms.ToTensor())\n",
    "test_data = datasets.EMNIST(root=\"Torch MNIST\", split=\"digits\", train=False,download=True, transform=transforms.ToTensor())"
   ],
   "metadata": {
    "collapsed": false,
    "ExecuteTime": {
     "end_time": "2023-08-14T22:47:05.903165300Z",
     "start_time": "2023-08-14T22:47:05.793145500Z"
    }
   },
   "id": "2883061f93593dce"
  },
  {
   "cell_type": "code",
   "execution_count": 150,
   "outputs": [],
   "source": [
    "batch_size = 2**16\n",
    "train_dataloader = DataLoader(training_data, batch_size = batch_size, shuffle=True)\n",
    "test_dataloader = DataLoader(test_data, batch_size = batch_size, shuffle=True)"
   ],
   "metadata": {
    "collapsed": false,
    "ExecuteTime": {
     "end_time": "2023-08-14T22:47:05.907383400Z",
     "start_time": "2023-08-14T22:47:05.905883400Z"
    }
   },
   "id": "bbbbe98aedcd538c"
  },
  {
   "cell_type": "code",
   "execution_count": 151,
   "outputs": [],
   "source": [
    "device = (\n",
    "    \"cuda\"\n",
    "    if torch.cuda.is_available()\n",
    "    else \"mps\"\n",
    "    if torch.backends.mps.is_available()\n",
    "    else \"cpu\"\n",
    ")"
   ],
   "metadata": {
    "collapsed": false,
    "ExecuteTime": {
     "end_time": "2023-08-14T22:47:05.920923600Z",
     "start_time": "2023-08-14T22:47:05.907383400Z"
    }
   },
   "id": "284ccffd8b01b51e"
  },
  {
   "cell_type": "code",
   "execution_count": 152,
   "outputs": [],
   "source": [
    "class AddGaussianNoise(nn.Module):\n",
    "    def __init__(self, mean=0., std=1., *args, **kwargs):\n",
    "        super().__init__(*args, **kwargs)\n",
    "        self.std = std\n",
    "        self.mean = mean\n",
    "        \n",
    "    def forward(self, tensor):\n",
    "        return tensor + torch.randn(tensor.size(), device=device) * self.std + self.mean\n",
    "    \n",
    "    def __repr__(self):\n",
    "        return self.__class__.__name__ + '(mean={0}, std={1})'.format(self.mean, self.std)"
   ],
   "metadata": {
    "collapsed": false,
    "ExecuteTime": {
     "end_time": "2023-08-14T22:47:05.925943700Z",
     "start_time": "2023-08-14T22:47:05.922917800Z"
    }
   },
   "id": "c06242027340049"
  },
  {
   "cell_type": "code",
   "execution_count": 153,
   "outputs": [],
   "source": [
    "transform_sequence = torch.nn.Sequential(\n",
    "    transforms.RandomAffine(15, translate=(0.1,0.1), scale=(0.9,1.1)),\n",
    "    AddGaussianNoise(mean=0.0,std=0.1)\n",
    ")"
   ],
   "metadata": {
    "collapsed": false,
    "ExecuteTime": {
     "end_time": "2023-08-14T22:47:05.930164600Z",
     "start_time": "2023-08-14T22:47:05.926940500Z"
    }
   },
   "id": "26bd034c7bd8e9d4"
  },
  {
   "cell_type": "code",
   "execution_count": 154,
   "outputs": [],
   "source": [
    "class NeuralNetwork(nn.Module):\n",
    "    def __init__(self,):\n",
    "        super().__init__()\n",
    "        self.linear_stack = nn.Sequential(OrderedDict([\n",
    "            (\"flatten\", nn.Flatten()),\n",
    "            (\"dropout1\", nn.Dropout(0.1)),\n",
    "            (\"linear1\", nn.Linear(28*28*1,1024)),\n",
    "            (\"act1\", nn.LeakyReLU()),\n",
    "            (\"batch_norm1\", nn.BatchNorm1d(1024)),\n",
    "            (\"dropout2\", nn.Dropout(0.1)),\n",
    "            (\"linear2\", nn.Linear(1024,1024)),\n",
    "            (\"act2\", nn.LeakyReLU()),\n",
    "            (\"batch_norm2\", nn.BatchNorm1d(1024)),\n",
    "            (\"dropout3\", nn.Dropout(0.1)),\n",
    "            (\"linear3\", nn.Linear(1024,256)),\n",
    "            (\"act3\", nn.LeakyReLU()),\n",
    "            (\"batch_norm3\", nn.BatchNorm1d(256)),\n",
    "            (\"dropout4\", nn.Dropout(0.1)),\n",
    "            (\"linear4\", nn.Linear(256,64)),\n",
    "            (\"act4\", nn.LeakyReLU()),\n",
    "            (\"batch_norm4\", nn.BatchNorm1d(64)),\n",
    "            (\"linear5\", nn.Linear(64,10))\n",
    "        ]))\n",
    "\n",
    "    def forward(self, x):\n",
    "        if self.training:\n",
    "            x = transform_sequence(x)\n",
    "        x = self.linear_stack(x)\n",
    "        return x"
   ],
   "metadata": {
    "collapsed": false,
    "ExecuteTime": {
     "end_time": "2023-08-14T22:47:05.941170300Z",
     "start_time": "2023-08-14T22:47:05.933154900Z"
    }
   },
   "id": "b67d7d1fc0a9afc1"
  },
  {
   "cell_type": "code",
   "execution_count": 155,
   "outputs": [
    {
     "data": {
      "text/plain": "==========================================================================================\nLayer (type:depth-idx)                   Output Shape              Param #\n==========================================================================================\nNeuralNetwork                            [65536, 10]               --\n├─Sequential: 1-1                        [65536, 10]               --\n│    └─Flatten: 2-1                      [65536, 784]              --\n│    └─Dropout: 2-2                      [65536, 784]              --\n│    └─Linear: 2-3                       [65536, 1024]             803,840\n│    └─LeakyReLU: 2-4                    [65536, 1024]             --\n│    └─BatchNorm1d: 2-5                  [65536, 1024]             2,048\n│    └─Dropout: 2-6                      [65536, 1024]             --\n│    └─Linear: 2-7                       [65536, 1024]             1,049,600\n│    └─LeakyReLU: 2-8                    [65536, 1024]             --\n│    └─BatchNorm1d: 2-9                  [65536, 1024]             2,048\n│    └─Dropout: 2-10                     [65536, 1024]             --\n│    └─Linear: 2-11                      [65536, 256]              262,400\n│    └─LeakyReLU: 2-12                   [65536, 256]              --\n│    └─BatchNorm1d: 2-13                 [65536, 256]              512\n│    └─Dropout: 2-14                     [65536, 256]              --\n│    └─Linear: 2-15                      [65536, 64]               16,448\n│    └─LeakyReLU: 2-16                   [65536, 64]               --\n│    └─BatchNorm1d: 2-17                 [65536, 64]               128\n│    └─Linear: 2-18                      [65536, 10]               650\n==========================================================================================\nTotal params: 2,137,674\nTrainable params: 2,137,674\nNon-trainable params: 0\nTotal mult-adds (Units.GIGABYTES): 140.09\n==========================================================================================\nInput size (MB): 205.52\nForward/backward pass size (MB): 2488.27\nParams size (MB): 8.55\nEstimated Total Size (MB): 2702.34\n=========================================================================================="
     },
     "execution_count": 155,
     "metadata": {},
     "output_type": "execute_result"
    }
   ],
   "source": [
    "model = NeuralNetwork().to(device)\n",
    "summary(model, input_size=(batch_size, 1, 28, 28))"
   ],
   "metadata": {
    "collapsed": false,
    "ExecuteTime": {
     "end_time": "2023-08-14T22:47:06.280071700Z",
     "start_time": "2023-08-14T22:47:05.935772100Z"
    }
   },
   "id": "dbf8b68af22b4a1c"
  },
  {
   "cell_type": "code",
   "execution_count": 161,
   "outputs": [
    {
     "name": "stdout",
     "output_type": "stream",
     "text": [
      "[1,     1] loss: 0.041\n",
      "[1,     2] loss: 0.036\n",
      "[1,     3] loss: 0.031\n",
      "[1,     4] loss: 0.032\n",
      "[2,     1] loss: 0.045\n",
      "[2,     2] loss: 0.031\n",
      "[2,     3] loss: 0.032\n",
      "[2,     4] loss: 0.030\n",
      "[3,     1] loss: 0.034\n",
      "[3,     2] loss: 0.054\n",
      "[3,     3] loss: 0.036\n",
      "[3,     4] loss: 0.032\n",
      "[4,     1] loss: 0.034\n",
      "[4,     2] loss: 0.035\n",
      "[4,     3] loss: 0.034\n",
      "[4,     4] loss: 0.045\n",
      "[5,     1] loss: 0.029\n",
      "[5,     2] loss: 0.028\n",
      "[5,     3] loss: 0.039\n",
      "[5,     4] loss: 0.039\n",
      "[6,     1] loss: 0.045\n",
      "[6,     2] loss: 0.050\n",
      "[6,     3] loss: 0.060\n",
      "[6,     4] loss: 0.045\n",
      "[7,     1] loss: 0.071\n",
      "[7,     2] loss: 0.042\n",
      "[7,     3] loss: 0.029\n",
      "[7,     4] loss: 0.032\n",
      "[8,     1] loss: 0.049\n",
      "[8,     2] loss: 0.028\n",
      "[8,     3] loss: 0.025\n",
      "[8,     4] loss: 0.044\n",
      "[9,     1] loss: 0.044\n",
      "[9,     2] loss: 0.055\n",
      "[9,     3] loss: 0.047\n",
      "[9,     4] loss: 0.055\n",
      "[10,     1] loss: 0.021\n",
      "[10,     2] loss: 0.067\n",
      "[10,     3] loss: 0.033\n",
      "[10,     4] loss: 0.048\n",
      "[11,     1] loss: 0.049\n",
      "[11,     2] loss: 0.028\n",
      "[11,     3] loss: 0.031\n",
      "[11,     4] loss: 0.064\n",
      "[12,     1] loss: 0.041\n",
      "[12,     2] loss: 0.032\n",
      "[12,     3] loss: 0.022\n",
      "[12,     4] loss: 0.051\n",
      "[13,     1] loss: 0.041\n",
      "[13,     2] loss: 0.034\n",
      "[13,     3] loss: 0.046\n",
      "[13,     4] loss: 0.031\n",
      "[14,     1] loss: 0.038\n",
      "[14,     2] loss: 0.029\n",
      "[14,     3] loss: 0.029\n",
      "[14,     4] loss: 0.037\n",
      "[15,     1] loss: 0.031\n",
      "[15,     2] loss: 0.072\n",
      "[15,     3] loss: 0.058\n",
      "[15,     4] loss: 0.028\n",
      "[16,     1] loss: 0.032\n",
      "[16,     2] loss: 0.047\n",
      "[16,     3] loss: 0.053\n",
      "[16,     4] loss: 0.035\n",
      "[17,     1] loss: 0.030\n",
      "[17,     2] loss: 0.030\n",
      "[17,     3] loss: 0.052\n",
      "[17,     4] loss: 0.040\n",
      "[18,     1] loss: 0.031\n",
      "[18,     2] loss: 0.034\n",
      "[18,     3] loss: 0.049\n",
      "[18,     4] loss: 0.027\n",
      "[19,     1] loss: 0.032\n",
      "[19,     2] loss: 0.049\n",
      "[19,     3] loss: 0.036\n",
      "[19,     4] loss: 0.042\n",
      "[20,     1] loss: 0.036\n",
      "[20,     2] loss: 0.036\n",
      "[20,     3] loss: 0.033\n",
      "[20,     4] loss: 0.034\n",
      "[21,     1] loss: 0.025\n",
      "[21,     2] loss: 0.024\n",
      "[21,     3] loss: 0.063\n",
      "[21,     4] loss: 0.054\n",
      "[22,     1] loss: 0.040\n",
      "[22,     2] loss: 0.027\n",
      "[22,     3] loss: 0.038\n",
      "[22,     4] loss: 0.074\n",
      "[23,     1] loss: 0.024\n",
      "[23,     2] loss: 0.054\n",
      "[23,     3] loss: 0.025\n",
      "[23,     4] loss: 0.043\n",
      "[24,     1] loss: 0.045\n",
      "[24,     2] loss: 0.148\n",
      "[24,     3] loss: 0.073\n",
      "[24,     4] loss: 0.031\n",
      "[25,     1] loss: 0.043\n",
      "[25,     2] loss: 0.030\n",
      "[25,     3] loss: 0.046\n",
      "[25,     4] loss: 0.061\n",
      "[26,     1] loss: 0.034\n",
      "[26,     2] loss: 0.037\n",
      "[26,     3] loss: 0.047\n",
      "[26,     4] loss: 0.037\n",
      "[27,     1] loss: 0.034\n",
      "[27,     2] loss: 0.039\n",
      "[27,     3] loss: 0.030\n",
      "[27,     4] loss: 0.023\n",
      "[28,     1] loss: 0.042\n",
      "[28,     2] loss: 0.034\n",
      "[28,     3] loss: 0.046\n",
      "[28,     4] loss: 0.031\n",
      "[29,     1] loss: 0.058\n",
      "[29,     2] loss: 0.039\n",
      "[29,     3] loss: 0.037\n",
      "[29,     4] loss: 0.038\n",
      "[30,     1] loss: 0.040\n",
      "[30,     2] loss: 0.032\n",
      "[30,     3] loss: 0.038\n",
      "[30,     4] loss: 0.023\n",
      "[31,     1] loss: 0.032\n",
      "[31,     2] loss: 0.035\n",
      "[31,     3] loss: 0.038\n",
      "[31,     4] loss: 0.039\n",
      "[32,     1] loss: 0.035\n",
      "[32,     2] loss: 0.047\n",
      "[32,     3] loss: 0.055\n",
      "[32,     4] loss: 0.032\n",
      "[33,     1] loss: 0.057\n",
      "[33,     2] loss: 0.031\n",
      "[33,     3] loss: 0.025\n",
      "[33,     4] loss: 0.035\n",
      "[34,     1] loss: 0.065\n",
      "[34,     2] loss: 0.033\n",
      "[34,     3] loss: 0.034\n",
      "[34,     4] loss: 0.027\n",
      "[35,     1] loss: 0.025\n",
      "[35,     2] loss: 0.038\n",
      "[35,     3] loss: 0.054\n",
      "[35,     4] loss: 0.036\n",
      "[36,     1] loss: 0.030\n",
      "[36,     2] loss: 0.047\n",
      "[36,     3] loss: 0.028\n",
      "[36,     4] loss: 0.033\n",
      "[37,     1] loss: 0.056\n",
      "[37,     2] loss: 0.077\n",
      "[37,     3] loss: 0.033\n",
      "[37,     4] loss: 0.062\n",
      "[38,     1] loss: 0.042\n",
      "[38,     2] loss: 0.031\n",
      "[38,     3] loss: 0.036\n",
      "[38,     4] loss: 0.046\n",
      "[39,     1] loss: 0.047\n",
      "[39,     2] loss: 0.040\n",
      "[39,     3] loss: 0.027\n",
      "[39,     4] loss: 0.024\n",
      "[40,     1] loss: 0.028\n",
      "[40,     2] loss: 0.029\n",
      "[40,     3] loss: 0.024\n",
      "[40,     4] loss: 0.051\n",
      "[41,     1] loss: 0.047\n",
      "[41,     2] loss: 0.033\n",
      "[41,     3] loss: 0.039\n",
      "[41,     4] loss: 0.047\n",
      "[42,     1] loss: 0.049\n",
      "[42,     2] loss: 0.035\n",
      "[42,     3] loss: 0.048\n",
      "[42,     4] loss: 0.043\n",
      "[43,     1] loss: 0.041\n",
      "[43,     2] loss: 0.037\n",
      "[43,     3] loss: 0.050\n",
      "[43,     4] loss: 0.026\n",
      "[44,     1] loss: 0.035\n",
      "[44,     2] loss: 0.034\n",
      "[44,     3] loss: 0.044\n",
      "[44,     4] loss: 0.037\n",
      "[45,     1] loss: 0.035\n",
      "[45,     2] loss: 0.037\n",
      "[45,     3] loss: 0.029\n",
      "[45,     4] loss: 0.035\n",
      "[46,     1] loss: 0.037\n",
      "[46,     2] loss: 0.028\n",
      "[46,     3] loss: 0.025\n",
      "[46,     4] loss: 0.025\n",
      "[47,     1] loss: 0.027\n",
      "[47,     2] loss: 0.031\n",
      "[47,     3] loss: 0.028\n",
      "[47,     4] loss: 0.050\n",
      "[48,     1] loss: 0.036\n",
      "[48,     2] loss: 0.024\n",
      "[48,     3] loss: 0.043\n",
      "[48,     4] loss: 0.035\n",
      "[49,     1] loss: 0.028\n",
      "[49,     2] loss: 0.028\n",
      "[49,     3] loss: 0.032\n",
      "[49,     4] loss: 0.032\n",
      "[50,     1] loss: 0.038\n",
      "[50,     2] loss: 0.035\n",
      "[50,     3] loss: 0.046\n",
      "[50,     4] loss: 0.096\n"
     ]
    }
   ],
   "source": [
    "loss_fn = nn.CrossEntropyLoss()\n",
    "Optimiser = optim.SGD(model.parameters(), lr=0.1, momentum=0.9)\n",
    "model.train(True)\n",
    "\n",
    "for epoch in range(0,50):\n",
    "    running_loss = 0.0\n",
    "    for batch_num, batch_data in enumerate(train_dataloader):\n",
    "        #print(\"Epoch {0} Batch {1}\".format(epoch+1, batch_num+1))\n",
    "        Optimiser.zero_grad()\n",
    "        \n",
    "        data, labels = batch_data\n",
    "        \n",
    "        plt.show()\n",
    "        labels = nn.functional.one_hot(labels, num_classes = 10).float()\n",
    "        data = data.to(device)\n",
    "        labels = labels.to(device)\n",
    "        \n",
    "        prediction = model(data)\n",
    "        loss = loss_fn(prediction,labels)\n",
    "        \n",
    "        loss.backward()\n",
    "        \n",
    "        \n",
    "        running_loss += loss.item()\n",
    "        log_num = 1\n",
    "        if log_num == 1:\n",
    "            print(f'[{epoch + 1}, {batch_num + 1:5d}] loss: {running_loss:.3f}')\n",
    "            running_loss = 0.0\n",
    "        else:\n",
    "            if batch_num % log_num == (log_num-1):\n",
    "                print(f'[{epoch + 1}, {batch_num + 1:5d}] loss: {running_loss / log_num:.3f}')\n",
    "                running_loss = 0.0\n",
    "        Optimiser.step()"
   ],
   "metadata": {
    "collapsed": false,
    "ExecuteTime": {
     "end_time": "2023-08-15T01:11:16.234492200Z",
     "start_time": "2023-08-15T00:57:00.063031Z"
    }
   },
   "id": "697d6e4ebb7453a1"
  },
  {
   "cell_type": "code",
   "execution_count": 162,
   "outputs": [
    {
     "name": "stdout",
     "output_type": "stream",
     "text": [
      "0.005249999999999977\n"
     ]
    }
   ],
   "source": [
    "total = 0\n",
    "correct = 0\n",
    "model.eval()\n",
    "\n",
    "with torch.no_grad():\n",
    "    for loader_data in test_dataloader:\n",
    "        data, labels = loader_data\n",
    "        data = data.to(device)\n",
    "        labels = labels.to(device)\n",
    "        output = model(data)\n",
    "        _, predicted = torch.max(output, 1)\n",
    "        total += labels.size(0)\n",
    "        correct += (predicted == labels).sum().item()\n",
    "\n",
    "print( 1 - (correct/total))"
   ],
   "metadata": {
    "collapsed": false,
    "ExecuteTime": {
     "end_time": "2023-08-15T01:11:33.108335300Z",
     "start_time": "2023-08-15T01:11:30.643642300Z"
    }
   },
   "id": "c2fc88e609895843"
  }
 ],
 "metadata": {
  "kernelspec": {
   "display_name": "Python 3",
   "language": "python",
   "name": "python3"
  },
  "language_info": {
   "codemirror_mode": {
    "name": "ipython",
    "version": 2
   },
   "file_extension": ".py",
   "mimetype": "text/x-python",
   "name": "python",
   "nbconvert_exporter": "python",
   "pygments_lexer": "ipython2",
   "version": "2.7.6"
  }
 },
 "nbformat": 4,
 "nbformat_minor": 5
}
