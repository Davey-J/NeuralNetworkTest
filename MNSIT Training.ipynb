{
 "cells": [
  {
   "cell_type": "code",
   "execution_count": 1,
   "id": "initial_id",
   "metadata": {
    "collapsed": true,
    "ExecuteTime": {
     "end_time": "2023-08-10T10:11:23.620946100Z",
     "start_time": "2023-08-10T10:11:19.775797500Z"
    }
   },
   "outputs": [
    {
     "data": {
      "text/plain": "<module 'NeuralNetworks' from 'C:\\\\Users\\\\davey\\\\Documents\\\\AITest\\\\NeuralNetworks.py'>"
     },
     "execution_count": 1,
     "metadata": {},
     "output_type": "execute_result"
    }
   ],
   "source": [
    "import numpy as np\n",
    "import matplotlib.pyplot as plt\n",
    "from matplotlib import colors\n",
    "from sklearn import preprocessing\n",
    "import pandas as pd\n",
    "import NeuralNetworks as Neural\n",
    "from importlib import reload\n",
    "reload(Neural)"
   ]
  },
  {
   "cell_type": "code",
   "execution_count": 2,
   "outputs": [],
   "source": [
    "mnist_test_data = pd.read_csv('EMNIST/emnist-digits-test.csv', header=None)\n",
    "mnist_train_data = pd.read_csv('EMNIST/emnist-digits-train.csv', header=None)"
   ],
   "metadata": {
    "collapsed": false,
    "ExecuteTime": {
     "end_time": "2023-08-10T10:11:30.948043800Z",
     "start_time": "2023-08-10T10:11:23.615950900Z"
    }
   },
   "id": "6d7efcc7e79c64a"
  },
  {
   "cell_type": "code",
   "execution_count": 3,
   "outputs": [],
   "source": [
    "def process_mnist(data):\n",
    "    labels = data[0]\n",
    "    one_hot_labels = np.zeros((data[0].size, 10))\n",
    "    one_hot_labels[np.arange(data[0].size), data[0]] = 1\n",
    "    data = data.iloc[:,1:]\n",
    "    data = preprocessing.minmax_scale(data)\n",
    "    \n",
    "    output = np.zeros(one_hot_labels.shape[0],dtype=object)\n",
    "    for x in range(one_hot_labels.shape[0]):\n",
    "        output[x] = [data[x],one_hot_labels[x]]    \n",
    "    return output\n",
    "\n",
    "test_data = process_mnist(mnist_test_data)\n",
    "train_data = process_mnist(mnist_train_data)\n"
   ],
   "metadata": {
    "collapsed": false,
    "ExecuteTime": {
     "end_time": "2023-08-10T10:11:32.804762900Z",
     "start_time": "2023-08-10T10:11:30.951593Z"
    }
   },
   "id": "8d8c91f9369bc8b1"
  },
  {
   "cell_type": "code",
   "execution_count": 4,
   "outputs": [],
   "source": [
    "layer_array = [784,16,10]\n",
    "init_weights = Neural.generate_weights_and_biases(layer_array)"
   ],
   "metadata": {
    "collapsed": false,
    "ExecuteTime": {
     "end_time": "2023-08-10T10:11:32.812300600Z",
     "start_time": "2023-08-10T10:11:32.806756100Z"
    }
   },
   "id": "3572e3aed18fa318"
  },
  {
   "cell_type": "code",
   "execution_count": 5,
   "outputs": [],
   "source": [
    "mnist_nn = Neural.NeuralNetwork(layer_array,init_weights,3)"
   ],
   "metadata": {
    "collapsed": false,
    "ExecuteTime": {
     "end_time": "2023-08-10T10:11:32.826316900Z",
     "start_time": "2023-08-10T10:11:32.811301800Z"
    }
   },
   "id": "f2a48ebefd303046"
  },
  {
   "cell_type": "code",
   "execution_count": 6,
   "outputs": [
    {
     "name": "stdout",
     "output_type": "stream",
     "text": [
      "Epoch 1 complete\n",
      "Epoch 2 complete\n",
      "Epoch 3 complete\n",
      "Epoch 4 complete\n",
      "Epoch 5 complete\n",
      "Epoch 6 complete\n",
      "Epoch 7 complete\n",
      "Epoch 8 complete\n",
      "Epoch 9 complete\n",
      "Epoch 10 complete\n",
      "Epoch 11 complete\n",
      "Epoch 12 complete\n",
      "Epoch 13 complete\n",
      "Epoch 14 complete\n",
      "Epoch 15 complete\n",
      "Epoch 16 complete\n",
      "Epoch 17 complete\n",
      "Epoch 18 complete\n",
      "Epoch 19 complete\n",
      "Epoch 20 complete\n",
      "Epoch 21 complete\n",
      "Epoch 22 complete\n",
      "Epoch 23 complete\n",
      "Epoch 24 complete\n",
      "Epoch 25 complete\n",
      "Epoch 26 complete\n",
      "Epoch 27 complete\n",
      "Epoch 28 complete\n",
      "Epoch 29 complete\n",
      "Epoch 30 complete\n",
      "Epoch 31 complete\n",
      "Epoch 32 complete\n",
      "Epoch 33 complete\n",
      "Epoch 34 complete\n",
      "Epoch 35 complete\n",
      "Epoch 36 complete\n",
      "Epoch 37 complete\n",
      "Epoch 38 complete\n",
      "Epoch 39 complete\n",
      "Epoch 40 complete\n",
      "Epoch 41 complete\n",
      "Epoch 42 complete\n",
      "Epoch 43 complete\n",
      "Epoch 44 complete\n",
      "Epoch 45 complete\n",
      "Epoch 46 complete\n",
      "Epoch 47 complete\n",
      "Epoch 48 complete\n",
      "Epoch 49 complete\n",
      "Epoch 50 complete\n"
     ]
    }
   ],
   "source": [
    "train_output = mnist_nn.train_nn(train_data,test_data,100,50,0.05)"
   ],
   "metadata": {
    "collapsed": false,
    "ExecuteTime": {
     "end_time": "2023-08-10T10:58:19.907863500Z",
     "start_time": "2023-08-10T10:11:32.826316900Z"
    }
   },
   "id": "1245a269393f1d6d"
  },
  {
   "cell_type": "code",
   "execution_count": 7,
   "outputs": [
    {
     "data": {
      "text/plain": "<Figure size 800x800 with 1 Axes>",
      "image/png": "[encoded data removed]"
     },
     "metadata": {},
     "output_type": "display_data"
    }
   ],
   "source": [
    "fig = plt.figure(figsize=(8,8))\n",
    "plt.plot(train_output[0], color='red')\n",
    "plt.plot(train_output[1], color='blue')\n",
    "plt.show()"
   ],
   "metadata": {
    "collapsed": false,
    "ExecuteTime": {
     "end_time": "2023-08-10T10:58:20.108441100Z",
     "start_time": "2023-08-10T10:58:19.900818500Z"
    }
   },
   "id": "40df87364cf7d22c"
  }
 ],
 "metadata": {
  "kernelspec": {
   "display_name": "Python 3",
   "language": "python",
   "name": "python3"
  },
  "language_info": {
   "codemirror_mode": {
    "name": "ipython",
    "version": 2
   },
   "file_extension": ".py",
   "mimetype": "text/x-python",
   "name": "python",
   "nbconvert_exporter": "python",
   "pygments_lexer": "ipython2",
   "version": "2.7.6"
  }
 },
 "nbformat": 4,
 "nbformat_minor": 5
}
